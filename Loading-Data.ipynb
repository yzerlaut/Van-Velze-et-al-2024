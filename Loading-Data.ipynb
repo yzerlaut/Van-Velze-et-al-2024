{
 "cells": [
  {
   "cell_type": "code",
   "execution_count": 1,
   "id": "d7b6c04f-21c5-492c-9afc-18a572a0f12f",
   "metadata": {},
   "outputs": [],
   "source": [
    "import os, pickle\n",
    "import numpy as np\n",
    "import plot_tools as pt\n",
    "import matplotlib.pylab as plt"
   ]
  },
  {
   "cell_type": "code",
   "execution_count": 2,
   "id": "6aa16aa3-e350-49ae-bb9c-7cd1e24d5c55",
   "metadata": {},
   "outputs": [],
   "source": [
    "# building the dataset\n",
    "DATASET = {'mice':[],\n",
    "           'days':[],\n",
    "           'folders':[]}\n",
    "\n",
    "data_folder = os.path.join(os.path.expanduser('~'), 'DATA', 'Marcel_Data')\n",
    "days = [d for d in os.listdir(data_folder) if (('._' not in d) and ('.DS' not in d))]\n",
    "for day in days:\n",
    "    mice = [f for f in os.listdir(os.path.join(data_folder, day)) if '.DS' not in f]\n",
    "    for m in mice:\n",
    "        folders = [f for f in os.listdir(os.path.join(data_folder, day, m)) if '.DS' not in f]\n",
    "        for f in folders:\n",
    "            DATASET['mice'].append(m)\n",
    "            DATASET['days'].append(day)\n",
    "            DATASET['folders'].append(os.path.join(data_folder, day, m, f))"
   ]
  },
  {
   "cell_type": "code",
   "execution_count": 6,
   "id": "fce28258-0bb6-4346-89c7-2f521c322a83",
   "metadata": {},
   "outputs": [
    {
     "name": "stdout",
     "output_type": "stream",
     "text": [
      "N=87 sessions with whisking data\n"
     ]
    }
   ],
   "source": [
    "DATASET['with_whisking'] = np.zeros(len(DATASET['days']), dtype=bool)\n",
    "for i, f in enumerate(DATASET['folders']):\n",
    "    with open(os.path.join(f, 'Analysis_Data.pickle'), 'rb') as f:\n",
    "        try:\n",
    "            data = pickle.load(f)\n",
    "            if 'Whisking_data' in data:\n",
    "                DATASET['with_whisking'][i] = True\n",
    "        except BaseException:\n",
    "            print('pb with', i, f)\n",
    "    #print('%i /' % (i+1), len(DATASET['days']))\n",
    "print('N=%i sessions with whisking data' % np.sum(DATASET['with_whisking']))"
   ]
  },
  {
   "cell_type": "code",
   "execution_count": 7,
   "id": "2d4ae876-651b-4fde-a1f4-5977517fab16",
   "metadata": {},
   "outputs": [],
   "source": [
    "def load_data(f):\n",
    "    with open(os.path.join(f, 'Analysis_Data.pickle'), 'rb') as F:\n",
    "        data = pickle.load(F)\n",
    "    return data.copy()"
   ]
  },
  {
   "cell_type": "code",
   "execution_count": 15,
   "id": "6ec4524f-4e5d-4c65-b88c-765f03acc041",
   "metadata": {},
   "outputs": [],
   "source": [
    "RESULTS = {'running':[], 'whisking':[],\n",
    "           'run_whisk':[], \n",
    "           'run_only':[], 'whisk_only':[]} \n",
    "for i, f in enumerate(np.array(DATASET['folders'])[DATASET['with_whisking']]):\n",
    "    data = load_data(f)\n",
    "    running = data['Locomotion_data']['bool_binary_movement']\n",
    "    RESULTS['running'].append(np.sum(running)/len(running))\n",
    "    whisking = data['Whisking_data']['binary_whisking']\n",
    "    RESULTS['whisking'].append(np.sum(whisking)/len(running))\n",
    "    RESULTS['run_whisk'].append(np.sum(running & whisking)/len(running))\n",
    "    RESULTS['run_only'].append(np.sum(running & (~whisking))/len(running))\n",
    "    RESULTS['whisk_only'].append(np.sum(whisking & (~running))/len(running))"
   ]
  },
  {
   "cell_type": "code",
   "execution_count": 27,
   "id": "0fca04fd-72da-4632-8d56-d9a4d6e5d277",
   "metadata": {},
   "outputs": [
    {
     "name": "stdout",
     "output_type": "stream",
     "text": [
      "running : 0.324 +/- 0.015 \n",
      "whisking : 0.476 +/- 0.024 \n",
      "run_whisk : 0.293 +/- 0.015 \n",
      "run_only : 0.031 +/- 0.004 \n",
      "whisk_only : 0.183 +/- 0.018 \n"
     ]
    },
    {
     "data": {
      "image/png": "[encoded data removed]",
      "text/plain": [
       "<Figure size 248.031x212.598 with 1 Axes>"
      ]
     },
     "metadata": {},
     "output_type": "display_data"
    }
   ],
   "source": [
    "from scipy import stats\n",
    "fig, ax = pt.figure()\n",
    "for i, key in enumerate(RESULTS):\n",
    "    print('%s : %.3f +/- %.3f ' % (key, np.mean(RESULTS[key]), stats.sem(RESULTS[key])))\n",
    "    ax.bar([i], [np.mean(RESULTS[key])], yerr=[stats.sem(RESULTS[key])])\n",
    "pt.set_plot(ax,\n",
    "            xticks = range(i+1), xticks_labels=list(RESULTS.keys()),\n",
    "            fontsize=6, xticks_rotation=70, ylabel='occurence')"
   ]
  },
  {
   "cell_type": "code",
   "execution_count": 28,
   "id": "2662cba2-0172-4430-bdc7-141fe8d041c4",
   "metadata": {},
   "outputs": [
    {
     "name": "stdout",
     "output_type": "stream",
     "text": [
      "Pb with: /Users/yann/DATA/Marcel_Data/2022.04.13/M_142/TSeries-04132022-1613-003\n",
      "Pb with: /Users/yann/DATA/Marcel_Data/2022.04.12/M_142/TSeries-02262021-1332-001\n",
      "N=85 sessions\n"
     ]
    }
   ],
   "source": [
    "LMIs, n = [], 0\n",
    "for i, f in enumerate(np.array(DATASET['folders'])[DATASET['with_whisking']]):\n",
    "    with open(os.path.join(f, 'Analysis_Data.pickle'), 'rb') as F:\n",
    "        data = pickle.load(F)\n",
    "        if 'lmi' in data:\n",
    "            LMIs += data['lmi']\n",
    "            n+=1\n",
    "        else:\n",
    "            print('Pb with:', f)\n",
    "print('N=%i sessions' % n )"
   ]
  },
  {
   "cell_type": "code",
   "execution_count": 29,
   "id": "2c9f6023-30e0-4baf-b7df-be9209f502ca",
   "metadata": {},
   "outputs": [
    {
     "data": {
      "image/png": "[encoded data removed]",
      "text/plain": [
       "<Figure size 248.031x212.598 with 1 Axes>"
      ]
     },
     "metadata": {},
     "output_type": "display_data"
    }
   ],
   "source": [
    "fig, ax = pt.figure()\n",
    "ax.hist(LMIs, bins=np.linspace(-1,1,30))\n",
    "pt.set_plot(ax, xticks=[-1,0,1],\n",
    "            title='n=%i ROIs, N=%i sessions' % (len(LMIs), n))"
   ]
  }
 ],
 "metadata": {
  "kernelspec": {
   "display_name": "Python 3 (ipykernel)",
   "language": "python",
   "name": "python3"
  },
  "language_info": {
   "codemirror_mode": {
    "name": "ipython",
    "version": 3
   },
   "file_extension": ".py",
   "mimetype": "text/x-python",
   "name": "python",
   "nbconvert_exporter": "python",
   "pygments_lexer": "ipython3",
   "version": "3.11.6"
  }
 },
 "nbformat": 4,
 "nbformat_minor": 5
}
