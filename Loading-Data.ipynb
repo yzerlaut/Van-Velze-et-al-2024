{
 "cells": [
  {
   "cell_type": "code",
   "execution_count": 1,
   "id": "d7b6c04f-21c5-492c-9afc-18a572a0f12f",
   "metadata": {},
   "outputs": [],
   "source": [
    "import os, pickle\n",
    "import numpy as np\n",
    "import plot_tools as pt\n",
    "import matplotlib.pylab as plt"
   ]
  },
  {
   "cell_type": "code",
   "execution_count": 2,
   "id": "6aa16aa3-e350-49ae-bb9c-7cd1e24d5c55",
   "metadata": {},
   "outputs": [],
   "source": [
    "# building the dataset\n",
    "DATASET = {'mice':[],\n",
    "           'days':[],\n",
    "           'folders':[]}\n",
    "\n",
    "data_folder = os.path.join(os.path.expanduser('~'), 'DATA', 'Marcel_Data')\n",
    "days = [d for d in os.listdir(data_folder) if (('._' not in d) and ('.DS' not in d))]\n",
    "for day in days:\n",
    "    mice = [f for f in os.listdir(os.path.join(data_folder, day)) if '.DS' not in f]\n",
    "    for m in mice:\n",
    "        folders = [f for f in os.listdir(os.path.join(data_folder, day, m)) if '.DS' not in f]\n",
    "        for f in folders:\n",
    "            DATASET['mice'].append(m)\n",
    "            DATASET['days'].append(day)\n",
    "            DATASET['folders'].append(os.path.join(data_folder, day, m, f))"
   ]
  },
  {
   "cell_type": "code",
   "execution_count": 3,
   "id": "fce28258-0bb6-4346-89c7-2f521c322a83",
   "metadata": {},
   "outputs": [
    {
     "name": "stdout",
     "output_type": "stream",
     "text": [
      "N=85 sessions with whisking data\n"
     ]
    }
   ],
   "source": [
    "DATASET['with_whisking'] = np.zeros(len(DATASET['days']), dtype=bool)\n",
    "for i, f in enumerate(DATASET['folders']):\n",
    "    with open(os.path.join(f, 'Analysis_Data.pickle'), 'rb') as f:\n",
    "        try:\n",
    "            data = pickle.load(f)\n",
    "            if ('Whisking_data' in data) and ('lmi' in data):\n",
    "                DATASET['with_whisking'][i] = True\n",
    "        except BaseException:\n",
    "            print('pb with', i, f)\n",
    "\n",
    "print('N=%i sessions with whisking data' % np.sum(DATASET['with_whisking']))"
   ]
  },
  {
   "cell_type": "code",
   "execution_count": 13,
   "id": "2d4ae876-651b-4fde-a1f4-5977517fab16",
   "metadata": {},
   "outputs": [
    {
     "name": "stdout",
     "output_type": "stream",
     "text": [
      "[]\n"
     ]
    }
   ],
   "source": [
    "def load_data(f):\n",
    "    with open(os.path.join(f, 'Analysis_Data.pickle'), 'rb') as F:\n",
    "        data = pickle.load(F)\n",
    "    return data.copy()\n",
    "\n",
    "def apply_min_duration(time, array,\n",
    "                       duration=0.5):\n",
    "    array[0] = False\n",
    "    array[-1] = False\n",
    "    up = np.flatnonzero(~array[:-1] & array[1:])\n",
    "    down = np.flatnonzero(array[:-1] & ~array[1:])\n",
    "    for i0, i1 in zip(up, down):\n",
    "        if (time[i1]-time[i0])<0.5:\n",
    "            array[i0:i1] = False\n",
    "\n",
    "def fetch_all(data):\n",
    "    \n",
    "    time = np.linspace(0, data['Settings']['time_seconds'], len(data['Locomotion_data']['speed']))\n",
    "    \n",
    "    whisking = np.zeros(len(time), dtype=bool)\n",
    "    for i in data['Whisking_data']['location_bouts']:\n",
    "        whisking[i[0]:i[1]] = True\n",
    "        \n",
    "    running = np.zeros(len(time), dtype=bool)\n",
    "    for i in data['Locomotion_data']['events']['location']:\n",
    "        running[i[0]:i[1]] = True\n",
    "\n",
    "    # whisking only\n",
    "    whisk_only = np.zeros(len(time), dtype=bool)\n",
    "    if len(data['Whisking_data']['whisking only'])>0:\n",
    "        for i in data['Whisking_data']['whisking only']['bout_location']:\n",
    "            whisk_only[i[0]:i[1]] = True\n",
    "\n",
    "    # running only\n",
    "    run_only  = running & (~whisking)\n",
    "    apply_min_duration(time, run_only)\n",
    "    \n",
    "    return running, whisking, running & whisking, run_only, whisk_only\n",
    "\n",
    "data = load_data('/Users/yann/DATA/Marcel_Data/2021.08.16/M_130/TSeries-08162021-1650-005')\n",
    "print(data['Whisking_data']['whisking only'])\n",
    "running, whisking, run_whisk, run_only, whisk_only = fetch_all(data)"
   ]
  },
  {
   "cell_type": "code",
   "execution_count": 16,
   "id": "6ec4524f-4e5d-4c65-b88c-765f03acc041",
   "metadata": {},
   "outputs": [],
   "source": [
    "RESULTS = {'running':[], 'whisking':[],\n",
    "           'run_whisk':[], \n",
    "           'run_only':[], 'whisk_only':[]} \n",
    "for i, f in enumerate(np.array(DATASET['folders'])[DATASET['with_whisking']]):\n",
    "\n",
    "    data = load_data(f)\n",
    "    \n",
    "    running, whisking, run_whisk, run_only, whisk_only = fetch_all(data)\n",
    "    \n",
    "    RESULTS['running'].append(np.sum(running)/len(running))\n",
    "    RESULTS['whisking'].append(np.sum(whisking)/len(running))\n",
    "    RESULTS['run_whisk'].append(np.sum(run_whisk)/len(running))\n",
    "    RESULTS['run_only'].append(np.sum(run_only)/len(running))\n",
    "    RESULTS['whisk_only'].append(np.sum(whisk_only)/len(running))"
   ]
  },
  {
   "cell_type": "code",
   "execution_count": 17,
   "id": "0fca04fd-72da-4632-8d56-d9a4d6e5d277",
   "metadata": {},
   "outputs": [
    {
     "name": "stdout",
     "output_type": "stream",
     "text": [
      "running : 0.320 +/- 0.015 or 0.135 \n",
      "whisking : 0.465 +/- 0.024 or 0.216 \n",
      "run_whisk : 0.289 +/- 0.015 or 0.138 \n",
      "run_only : 0.016 +/- 0.002 or 0.023 \n",
      "whisk_only : 0.147 +/- 0.017 or 0.157 \n"
     ]
    },
    {
     "data": {
      "image/png": "[encoded data removed]",
      "text/plain": [
       "<Figure size 248.031x212.598 with 1 Axes>"
      ]
     },
     "metadata": {},
     "output_type": "display_data"
    }
   ],
   "source": [
    "from scipy import stats\n",
    "fig, ax = pt.figure()\n",
    "for i, key in enumerate(RESULTS):\n",
    "    print('%s : %.3f +/- %.3f or %.3f ' % (key, np.mean(RESULTS[key]), stats.sem(RESULTS[key]), np.std(RESULTS[key])))\n",
    "    ax.bar([i], [np.mean(RESULTS[key])], yerr=[stats.sem(RESULTS[key])])\n",
    "pt.set_plot(ax,\n",
    "            xticks = range(i+1), xticks_labels=list(RESULTS.keys()),\n",
    "            fontsize=6, xticks_rotation=70, ylabel='occurence')"
   ]
  },
  {
   "cell_type": "code",
   "execution_count": 18,
   "id": "2662cba2-0172-4430-bdc7-141fe8d041c4",
   "metadata": {},
   "outputs": [
    {
     "name": "stdout",
     "output_type": "stream",
     "text": [
      "no Whisking-Only for:  /Users/yann/DATA/Marcel_Data/2021.08.16/M_130/TSeries-08162021-1650-005\n",
      "no Whisking-Only for:  /Users/yann/DATA/Marcel_Data/2021.02.25/M_106/TSeries-02252021-1557-005\n",
      "N=85 sessions\n"
     ]
    }
   ],
   "source": [
    "LMIs, WMIs, WOMIs, n = [], [], [], 0\n",
    "\n",
    "for i, f in enumerate(np.array(DATASET['folders'])[DATASET['with_whisking']]):\n",
    "    with open(os.path.join(f, 'Analysis_Data.pickle'), 'rb') as F:\n",
    "        data = pickle.load(F)\n",
    "        if 'WMI dF' in data['table_data']:\n",
    "            WMIs += list(np.array(data['table_data']['WMI dF'], dtype=float))\n",
    "        else:\n",
    "            print('no Whisking for: ', f)\n",
    "        if 'WOMI dF' in data['table_data']:\n",
    "            WOMIs += list(np.array(data['table_data']['WOMI dF'], dtype=float))\n",
    "        else:\n",
    "            print('no Whisking-Only for: ', f)\n",
    "        if 'lmi' in data:\n",
    "            LMIs += data['lmi']\n",
    "            n+=1\n",
    "        else:\n",
    "            print('no Locomotion for: ', f)\n",
    "            \n",
    "print('N=%i sessions' % n )"
   ]
  },
  {
   "cell_type": "code",
   "execution_count": 19,
   "id": "2c9f6023-30e0-4baf-b7df-be9209f502ca",
   "metadata": {},
   "outputs": [
    {
     "data": {
      "image/png": "[encoded data removed]",
      "text/plain": [
       "<Figure size 673.228x212.598 with 3 Axes>"
      ]
     },
     "metadata": {},
     "output_type": "display_data"
    }
   ],
   "source": [
    "fig, AX = pt.figure(axes=(3,1))\n",
    "for ax, MIs, title in zip(AX, [LMIs, WMIs, WOMIs], ['LMI', 'WMI', 'WOMI']):\n",
    "    ax.hist(MIs, bins=np.linspace(-1,1,30))\n",
    "    pt.set_plot(ax, xticks=[-1,0,1],\n",
    "                title='%s \\nn=%i ROIs\\n %.2f +/- %.2f ' % (title, len(MIs), np.mean(MIs), np.std(MIs)))"
   ]
  },
  {
   "cell_type": "code",
   "execution_count": 20,
   "id": "53ec5558-d91b-4f4d-b6f6-c59844de5d7f",
   "metadata": {},
   "outputs": [],
   "source": [
    "with open('table.csv', 'w',) as file:\n",
    "    file.write(\"LMI, WMI, WOMI\")\n",
    "    \n",
    "    for i in range(len(LMIs)):\n",
    "        line = ''\n",
    "        line += '%.6f, ' % LMIs[i] \n",
    "        line += '%.6f, ' % WMIs[i] \n",
    "        if i<(len(WOMIs)-1):\n",
    "            line += '%.6f,' % WOMIs[i] \n",
    "        file.write(line+'\\n')"
   ]
  },
  {
   "cell_type": "code",
   "execution_count": null,
   "id": "438a8049-8c0a-4588-8040-e365f884c112",
   "metadata": {},
   "outputs": [],
   "source": []
  }
 ],
 "metadata": {
  "kernelspec": {
   "display_name": "Python 3 (ipykernel)",
   "language": "python",
   "name": "python3"
  },
  "language_info": {
   "codemirror_mode": {
    "name": "ipython",
    "version": 3
   },
   "file_extension": ".py",
   "mimetype": "text/x-python",
   "name": "python",
   "nbconvert_exporter": "python",
   "pygments_lexer": "ipython3",
   "version": "3.11.6"
  }
 },
 "nbformat": 4,
 "nbformat_minor": 5
}
